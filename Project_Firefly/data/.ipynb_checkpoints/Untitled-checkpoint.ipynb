{
 "cells": [
  {
   "cell_type": "code",
   "execution_count": 90,
   "metadata": {},
   "outputs": [],
   "source": [
    "import pandas as pd\n",
    "import numpy as np\n",
    "import datetime\n",
    "import json"
   ]
  },
  {
   "cell_type": "code",
   "execution_count": 67,
   "metadata": {},
   "outputs": [],
   "source": [
    "stops_schema = ['StopLocationID','StopNameShort'\n",
    "                ,'StopNameLong','StopType','SuburbName'\n",
    "                ,'PostCode','RegionName','LocalGovernmentArea'\n",
    "                ,'StatDivision','GPSLat','GPSLong']"
   ]
  },
  {
   "cell_type": "code",
   "execution_count": 68,
   "metadata": {},
   "outputs": [],
   "source": [
    "traffic = pd.read_csv(\"sample.csv\")\n",
    "stops = pd.read_csv(\"stop_locations.txt\",sep='|',header=None,names=stops_schema)"
   ]
  },
  {
   "cell_type": "code",
   "execution_count": 69,
   "metadata": {},
   "outputs": [
    {
     "data": {
      "text/plain": [
       "Index(['mode', 'business_date', 'date_time', 'card_id', 'card_type',\n",
       "       'vehicle_id', 'parent_route', 'route_id', 'stop_ID', 'card_subtype_id',\n",
       "       'card_subtype_desc', 'payment_type', 'fare_type', 'concession_type',\n",
       "       'mi_card_group', 'stop_location_id', 'stop_name_short',\n",
       "       'stop_name_long', 'stop_type', 'suburb_name', 'post_code',\n",
       "       'region_name', 'local_gov_area', 'stat_div', 'gps_lat',\n",
       "       'gps_lon_FLOAT'],\n",
       "      dtype='object')"
      ]
     },
     "execution_count": 69,
     "metadata": {},
     "output_type": "execute_result"
    }
   ],
   "source": [
    "traffic.columns"
   ]
  },
  {
   "cell_type": "code",
   "execution_count": 70,
   "metadata": {},
   "outputs": [
    {
     "data": {
      "text/plain": [
       "Index(['StopLocationID', 'StopNameShort', 'StopNameLong', 'StopType',\n",
       "       'SuburbName', 'PostCode', 'RegionName', 'LocalGovernmentArea',\n",
       "       'StatDivision', 'GPSLat', 'GPSLong'],\n",
       "      dtype='object')"
      ]
     },
     "execution_count": 70,
     "metadata": {},
     "output_type": "execute_result"
    }
   ],
   "source": [
    "stops.columns"
   ]
  },
  {
   "cell_type": "code",
   "execution_count": 83,
   "metadata": {},
   "outputs": [],
   "source": [
    "traffic.date_time = pd.to_datetime(traffic.date_time)"
   ]
  },
  {
   "cell_type": "code",
   "execution_count": 84,
   "metadata": {},
   "outputs": [],
   "source": [
    "traffic['hour'] = traffic.date_time.apply(lambda x: x.hour)"
   ]
  },
  {
   "cell_type": "code",
   "execution_count": 85,
   "metadata": {},
   "outputs": [],
   "source": [
    "traffic_grouped = traffic.groupby(['business_date','hour','stop_ID'],as_index=False)['card_id'].count()"
   ]
  },
  {
   "cell_type": "code",
   "execution_count": 86,
   "metadata": {},
   "outputs": [],
   "source": [
    "traffic_grouped.to_csv('traffic_grouped.csv')"
   ]
  },
  {
   "cell_type": "code",
   "execution_count": 87,
   "metadata": {},
   "outputs": [],
   "source": [
    "traffic_grouped = traffic_grouped.merge(stops,left_on='stop_ID',right_on='StopLocationID',how='left').dropna()"
   ]
  },
  {
   "cell_type": "code",
   "execution_count": 88,
   "metadata": {},
   "outputs": [],
   "source": [
    "traffic_grouped.to_csv(\"traffic_grouped.csv\",index=False)"
   ]
  },
  {
   "cell_type": "code",
   "execution_count": 89,
   "metadata": {},
   "outputs": [
    {
     "data": {
      "text/plain": [
       "Index(['business_date', 'hour', 'stop_ID', 'card_id', 'StopLocationID',\n",
       "       'StopNameShort', 'StopNameLong', 'StopType', 'SuburbName', 'PostCode',\n",
       "       'RegionName', 'LocalGovernmentArea', 'StatDivision', 'GPSLat',\n",
       "       'GPSLong'],\n",
       "      dtype='object')"
      ]
     },
     "execution_count": 89,
     "metadata": {},
     "output_type": "execute_result"
    }
   ],
   "source": []
  },
  {
   "cell_type": "code",
   "execution_count": null,
   "metadata": {},
   "outputs": [],
   "source": []
  },
  {
   "cell_type": "code",
   "execution_count": null,
   "metadata": {},
   "outputs": [],
   "source": []
  }
 ],
 "metadata": {
  "kernelspec": {
   "display_name": "Python 3",
   "language": "python",
   "name": "python3"
  },
  "language_info": {
   "codemirror_mode": {
    "name": "ipython",
    "version": 3
   },
   "file_extension": ".py",
   "mimetype": "text/x-python",
   "name": "python",
   "nbconvert_exporter": "python",
   "pygments_lexer": "ipython3",
   "version": "3.6.6"
  }
 },
 "nbformat": 4,
 "nbformat_minor": 2
}
