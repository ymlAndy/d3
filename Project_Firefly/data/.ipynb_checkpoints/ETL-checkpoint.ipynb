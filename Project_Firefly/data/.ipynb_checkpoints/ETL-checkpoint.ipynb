{
 "cells": [
  {
   "cell_type": "code",
   "execution_count": 97,
   "metadata": {},
   "outputs": [],
   "source": [
    "import pandas as pd\n",
    "import numpy as np\n",
    "import datetime"
   ]
  },
  {
   "cell_type": "code",
   "execution_count": 98,
   "metadata": {},
   "outputs": [],
   "source": [
    "stops_schema = ['StopLocationID','StopNameShort'\n",
    "                ,'StopNameLong','StopType','SuburbName'\n",
    "                ,'PostCode','RegionName','LocalGovernmentArea'\n",
    "                ,'StatDivision','GPSLat','GPSLong']"
   ]
  },
  {
   "cell_type": "code",
   "execution_count": 59,
   "metadata": {},
   "outputs": [],
   "source": [
    "traffic = pd.read_csv(\"sample.csv\")\n",
    "stops = pd.read_csv(\"stop_locations.txt\",sep='|',header=None,names=stops_schema)"
   ]
  },
  {
   "cell_type": "code",
   "execution_count": 99,
   "metadata": {},
   "outputs": [],
   "source": [
    "traffic.date_time = pd.to_datetime(traffic.date_time)\n",
    "traffic.business_date = pd.to_datetime(traffic.business_date)"
   ]
  },
  {
   "cell_type": "code",
   "execution_count": 100,
   "metadata": {},
   "outputs": [],
   "source": [
    "stop_unique = traffic.stop_ID.unique()"
   ]
  },
  {
   "cell_type": "code",
   "execution_count": 101,
   "metadata": {},
   "outputs": [],
   "source": [
    "dates = traffic.business_date.sort_values().unique()"
   ]
  },
  {
   "cell_type": "code",
   "execution_count": 102,
   "metadata": {},
   "outputs": [],
   "source": [
    "traffic['hour'] = traffic.date_time.apply(lambda x: x.hour)"
   ]
  },
  {
   "cell_type": "code",
   "execution_count": 103,
   "metadata": {},
   "outputs": [],
   "source": [
    "traffic_grouped = traffic.groupby(['hour','stop_ID'],as_index=False)['card_id'].count()"
   ]
  },
  {
   "cell_type": "code",
   "execution_count": 104,
   "metadata": {},
   "outputs": [],
   "source": [
    "traffic_grouped = traffic_grouped.merge(stops,left_on='stop_ID',right_on='StopLocationID',how='left').dropna()"
   ]
  },
  {
   "cell_type": "code",
   "execution_count": 105,
   "metadata": {},
   "outputs": [],
   "source": [
    "traffic_grouped.loc[traffic_grouped.StopType == \"kerbside\",'StopType'] = \"Kerbside\""
   ]
  },
  {
   "cell_type": "code",
   "execution_count": 106,
   "metadata": {},
   "outputs": [
    {
     "data": {
      "text/plain": [
       "array(['Melbourne', 'Melton', 'Yarra Ranges', 'Cardinia', 'Whittlesea',\n",
       "       'Hume', 'Moorabool', 'Mornington Peninsula', 'Murrindindi',\n",
       "       'Wyndham'], dtype=object)"
      ]
     },
     "execution_count": 106,
     "metadata": {},
     "output_type": "execute_result"
    }
   ],
   "source": [
    "traffic_grouped.loc[traffic_grouped.StopType == \"Kerbside\"].RegionName.unique()"
   ]
  },
  {
   "cell_type": "code",
   "execution_count": 107,
   "metadata": {},
   "outputs": [
    {
     "data": {
      "text/plain": [
       "array(['Bus Bay', 'Kerbside', 'Platform', 'Safety Zone',\n",
       "       'non passenger point'], dtype=object)"
      ]
     },
     "execution_count": 107,
     "metadata": {},
     "output_type": "execute_result"
    }
   ],
   "source": [
    "traffic_grouped.groupby()"
   ]
  },
  {
   "cell_type": "code",
   "execution_count": 109,
   "metadata": {},
   "outputs": [],
   "source": [
    "traffic_grouped[traffic_grouped.StopType != \"Bus Bay\"].to_csv(\"traffic_grouped.csv\")"
   ]
  },
  {
   "cell_type": "code",
   "execution_count": 38,
   "metadata": {},
   "outputs": [
    {
     "data": {
      "text/html": [
       "<div>\n",
       "<style scoped>\n",
       "    .dataframe tbody tr th:only-of-type {\n",
       "        vertical-align: middle;\n",
       "    }\n",
       "\n",
       "    .dataframe tbody tr th {\n",
       "        vertical-align: top;\n",
       "    }\n",
       "\n",
       "    .dataframe thead th {\n",
       "        text-align: right;\n",
       "    }\n",
       "</style>\n",
       "<table border=\"1\" class=\"dataframe\">\n",
       "  <thead>\n",
       "    <tr style=\"text-align: right;\">\n",
       "      <th></th>\n",
       "      <th>hour</th>\n",
       "      <th>stop_ID</th>\n",
       "      <th>card_id</th>\n",
       "      <th>StopLocationID</th>\n",
       "      <th>StopNameShort</th>\n",
       "      <th>StopNameLong</th>\n",
       "      <th>StopType</th>\n",
       "      <th>SuburbName</th>\n",
       "      <th>PostCode</th>\n",
       "      <th>RegionName</th>\n",
       "      <th>LocalGovernmentArea</th>\n",
       "      <th>StatDivision</th>\n",
       "      <th>GPSLat</th>\n",
       "      <th>GPSLong</th>\n",
       "    </tr>\n",
       "  </thead>\n",
       "  <tbody>\n",
       "  </tbody>\n",
       "</table>\n",
       "</div>"
      ],
      "text/plain": [
       "Empty DataFrame\n",
       "Columns: [hour, stop_ID, card_id, StopLocationID, StopNameShort, StopNameLong, StopType, SuburbName, PostCode, RegionName, LocalGovernmentArea, StatDivision, GPSLat, GPSLong]\n",
       "Index: []"
      ]
     },
     "execution_count": 38,
     "metadata": {},
     "output_type": "execute_result"
    }
   ],
   "source": [
    "traffic_grouped[traffic_grouped.GPSLat ==\"Kirbside\"]"
   ]
  },
  {
   "cell_type": "code",
   "execution_count": 95,
   "metadata": {},
   "outputs": [],
   "source": [
    "stops.StopLocationID = stops.StopLocationID.apply(lambda x: int(x))"
   ]
  },
  {
   "cell_type": "code",
   "execution_count": 96,
   "metadata": {},
   "outputs": [],
   "source": [
    "stops[stops.StopLocationID.isin(list(traffic_grouped.stop_ID.unique()))].to_csv('stops.csv')"
   ]
  },
  {
   "cell_type": "code",
   "execution_count": null,
   "metadata": {},
   "outputs": [],
   "source": []
  }
 ],
 "metadata": {
  "kernelspec": {
   "display_name": "Python 3",
   "language": "python",
   "name": "python3"
  },
  "language_info": {
   "codemirror_mode": {
    "name": "ipython",
    "version": 3
   },
   "file_extension": ".py",
   "mimetype": "text/x-python",
   "name": "python",
   "nbconvert_exporter": "python",
   "pygments_lexer": "ipython3",
   "version": "3.6.6"
  }
 },
 "nbformat": 4,
 "nbformat_minor": 2
}
